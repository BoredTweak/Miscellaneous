{
 "cells": [
  {
   "cell_type": "code",
   "execution_count": null,
   "metadata": {
    "tags": [
     "parameters"
    ]
   },
   "outputs": [],
   "source": [
    "targetDirectory = \"\""
   ]
  },
  {
   "cell_type": "code",
   "execution_count": 1,
   "metadata": {},
   "outputs": [
    {
     "name": "stdout",
     "output_type": "stream",
     "text": [
      "Searching for projects that cannot be found in solutions:\n",
      "Percent: [----------] 0.0% Solutions in directory: %s 0\n",
      "Projects in directory: %s 0\n",
      "Solutionless Projects in directory: %s 0\n"
     ]
    }
   ],
   "source": [
    "# Use Case:\n",
    "# papermill \"DirectoryScanner.ipynb\" \"output.ipynb\" -p \"targetDirectory\" \"DIRECTORY_PATH\"\n",
    "import sys\n",
    "import os\n",
    "import os.path\n",
    "import progressbar\n",
    "\n",
    "class ProgressBar:\n",
    "    def __init__(self):\n",
    "        self.barLength = 10 # Modify this to change the length of the progress bar\n",
    "        self.status = \"\"\n",
    "\n",
    "    # update_progress() : Displays or updates a console progress bar\n",
    "    ## Accepts a float between 0 and 1. Any int will be converted to a float.\n",
    "    ## A value under 0 represents a 'halt'.\n",
    "    ## A value at 1 or bigger represents 100%\n",
    "    def update_progress(self, progress):      \n",
    "        if isinstance(progress, int):\n",
    "            progress = float(progress)\n",
    "        if not isinstance(progress, float):\n",
    "            progress = 0\n",
    "            self.status = \"error: progress var must be float\\r\\n\"\n",
    "        if progress < 0:\n",
    "            progress = 0\n",
    "            self.status = \"Halt...\\r\\n\"\n",
    "        if progress >= 1:\n",
    "            progress = 1\n",
    "            self.status = \"Done...\\r\\n\"\n",
    "        block = int(round(self.barLength*progress))\n",
    "        text = \"\\rPercent: [{0}] {1}% {2}\".format( \"#\"*block + \"-\"*(self.barLength-block), str(round(progress*100, 2)), self.status)\n",
    "        sys.stdout.write(text)\n",
    "        sys.stdout.flush()\n",
    "    \n",
    "# Script intended to iterate over the sandbox looking for projects which aren't in a solution.\n",
    "# Start searching\n",
    "print ('Searching for projects that cannot be found in solutions:')\n",
    "progress = progressbar.ProgressBar()\n",
    "progress.update_progress(0) # Start a progress bar\n",
    "\n",
    "projectCount = 0 \n",
    "projectFiles = []\n",
    "solutionFiles = []\n",
    "solutionlessProjectFiles = []\n",
    "sandboxPath = os.path.expandvars(targetDirectory)\n",
    "exclude = set(['node_modules', 'packages', 'bin', 'obj'])\n",
    "for dirpath, dirnames, filenames in os.walk(sandboxPath, topdown=True):\n",
    "    [dirnames.remove(d) for d in list(dirnames) if d in exclude]\n",
    "    for projectName in [f for f in filenames if f.endswith(\"proj\")]:\n",
    "        if projectName:\n",
    "            projectFiles.append(projectName)\n",
    "    for solutionName in [f for f in filenames if f.endswith(\".sln\")]:\n",
    "        if solutionName:\n",
    "            solutionFiles.append(os.path.join(dirpath, solutionName))\n",
    "\n",
    "for projectName in projectFiles:\n",
    "    projectCount = projectCount + 1\n",
    "    progress.update_progress(projectCount / len(projectFiles)) # update progress bar\n",
    "    found = False\n",
    "    foundInFile = ''\n",
    "    for solution in solutionFiles:\n",
    "        if projectName in open(solution).read(): # Does the solution contain the project name?\n",
    "            found = True\n",
    "            foundInFile = solutionName\n",
    "            break\n",
    "    if(found == False):\n",
    "        solutionlessProjectFiles.append(projectName) # We couldn't find a solution. Append name to the solutionless project list \n",
    "\n",
    "print('Solutions in directory: %s', len(solutionFiles))\n",
    "print('Projects in directory: %s', len(projectFiles))\n",
    "print('Solutionless Projects in directory: %s', len(solutionlessProjectFiles))\n",
    "for solutionlessProject in solutionlessProjectFiles:\n",
    "    print(solutionlessProject)"
   ]
  }
 ],
 "metadata": {
  "celltoolbar": "Tags",
  "kernelspec": {
   "display_name": "Python 3",
   "language": "python",
   "name": "python3"
  },
  "language_info": {
   "codemirror_mode": {
    "name": "ipython",
    "version": 3
   },
   "file_extension": ".py",
   "mimetype": "text/x-python",
   "name": "python",
   "nbconvert_exporter": "python",
   "pygments_lexer": "ipython3",
   "version": "3.7.0"
  }
 },
 "nbformat": 4,
 "nbformat_minor": 2
}
