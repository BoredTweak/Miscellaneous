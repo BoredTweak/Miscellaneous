{
 "cells": [
  {
   "cell_type": "code",
   "execution_count": 1,
   "metadata": {
    "jupyter": {
     "outputs_hidden": false,
     "source_hidden": false
    },
    "nteract": {
     "transient": {
      "deleting": false
     }
    }
   },
   "outputs": [
    {
     "name": "stdout",
     "output_type": "stream",
     "text": [
      "Requirement already satisfied: pandas in c:\\users\\alex\\appdata\\local\\programs\\python\\python38-32\\lib\\site-packages (1.1.0)\n",
      "Requirement already satisfied: pytz>=2017.2 in c:\\users\\alex\\appdata\\local\\programs\\python\\python38-32\\lib\\site-packages (from pandas) (2020.1)\n",
      "Requirement already satisfied: numpy>=1.15.4 in c:\\users\\alex\\appdata\\local\\programs\\python\\python38-32\\lib\\site-packages (from pandas) (1.19.1)\n",
      "Requirement already satisfied: python-dateutil>=2.7.3 in c:\\users\\alex\\appdata\\local\\programs\\python\\python38-32\\lib\\site-packages (from pandas) (2.8.1)\n",
      "Requirement already satisfied: six>=1.5 in c:\\users\\alex\\appdata\\local\\programs\\python\\python38-32\\lib\\site-packages (from python-dateutil>=2.7.3->pandas) (1.15.0)\n",
      "Requirement already satisfied: pandas_datareader in c:\\users\\alex\\appdata\\local\\programs\\python\\python38-32\\lib\\site-packages (0.9.0)\n",
      "Requirement already satisfied: requests>=2.19.0 in c:\\users\\alex\\appdata\\local\\programs\\python\\python38-32\\lib\\site-packages (from pandas_datareader) (2.24.0)\n",
      "Requirement already satisfied: pandas>=0.23 in c:\\users\\alex\\appdata\\local\\programs\\python\\python38-32\\lib\\site-packages (from pandas_datareader) (1.1.0)\n",
      "Requirement already satisfied: lxml in c:\\users\\alex\\appdata\\local\\programs\\python\\python38-32\\lib\\site-packages (from pandas_datareader) (4.5.2)\n",
      "Requirement already satisfied: certifi>=2017.4.17 in c:\\users\\alex\\appdata\\local\\programs\\python\\python38-32\\lib\\site-packages (from requests>=2.19.0->pandas_datareader) (2020.6.20)\n",
      "Requirement already satisfied: idna<3,>=2.5 in c:\\users\\alex\\appdata\\local\\programs\\python\\python38-32\\lib\\site-packages (from requests>=2.19.0->pandas_datareader) (2.10)\n",
      "Requirement already satisfied: chardet<4,>=3.0.2 in c:\\users\\alex\\appdata\\local\\programs\\python\\python38-32\\lib\\site-packages (from requests>=2.19.0->pandas_datareader) (3.0.4)\n",
      "Requirement already satisfied: urllib3!=1.25.0,!=1.25.1,<1.26,>=1.21.1 in c:\\users\\alex\\appdata\\local\\programs\\python\\python38-32\\lib\\site-packages (from requests>=2.19.0->pandas_datareader) (1.25.10)\n",
      "Requirement already satisfied: numpy>=1.15.4 in c:\\users\\alex\\appdata\\local\\programs\\python\\python38-32\\lib\\site-packages (from pandas>=0.23->pandas_datareader) (1.19.1)\n",
      "Requirement already satisfied: python-dateutil>=2.7.3 in c:\\users\\alex\\appdata\\local\\programs\\python\\python38-32\\lib\\site-packages (from pandas>=0.23->pandas_datareader) (2.8.1)\n",
      "Requirement already satisfied: pytz>=2017.2 in c:\\users\\alex\\appdata\\local\\programs\\python\\python38-32\\lib\\site-packages (from pandas>=0.23->pandas_datareader) (2020.1)\n",
      "Requirement already satisfied: six>=1.5 in c:\\users\\alex\\appdata\\local\\programs\\python\\python38-32\\lib\\site-packages (from python-dateutil>=2.7.3->pandas>=0.23->pandas_datareader) (1.15.0)\n",
      "Requirement already satisfied: matplotlib in c:\\users\\alex\\appdata\\local\\programs\\python\\python38-32\\lib\\site-packages (3.3.0)\n",
      "Requirement already satisfied: pyparsing!=2.0.4,!=2.1.2,!=2.1.6,>=2.0.3 in c:\\users\\alex\\appdata\\local\\programs\\python\\python38-32\\lib\\site-packages (from matplotlib) (2.4.7)\n",
      "Requirement already satisfied: pillow>=6.2.0 in c:\\users\\alex\\appdata\\local\\programs\\python\\python38-32\\lib\\site-packages (from matplotlib) (7.2.0)\n",
      "Requirement already satisfied: cycler>=0.10 in c:\\users\\alex\\appdata\\local\\programs\\python\\python38-32\\lib\\site-packages (from matplotlib) (0.10.0)\n",
      "Requirement already satisfied: python-dateutil>=2.1 in c:\\users\\alex\\appdata\\local\\programs\\python\\python38-32\\lib\\site-packages (from matplotlib) (2.8.1)\n",
      "Requirement already satisfied: kiwisolver>=1.0.1 in c:\\users\\alex\\appdata\\local\\programs\\python\\python38-32\\lib\\site-packages (from matplotlib) (1.2.0)\n",
      "Requirement already satisfied: numpy>=1.15 in c:\\users\\alex\\appdata\\local\\programs\\python\\python38-32\\lib\\site-packages (from matplotlib) (1.19.1)\n",
      "Requirement already satisfied: six in c:\\users\\alex\\appdata\\local\\programs\\python\\python38-32\\lib\\site-packages (from cycler>=0.10->matplotlib) (1.15.0)\n",
      "Requirement already satisfied: interpret in c:\\users\\alex\\appdata\\local\\programs\\python\\python38-32\\lib\\site-packages (0.2.1)\n",
      "Requirement already satisfied: interpret-core[dash,debug,decisiontree,ebm,lime,linear,notebook,plotly,required,sensitivity,shap,treeinterpreter]>=0.2.1 in c:\\users\\alex\\appdata\\local\\programs\\python\\python38-32\\lib\\site-packages (from interpret) (0.2.1)\n",
      "Requirement already satisfied: dash-table>=4.1.0; extra == \"dash\" in c:\\users\\alex\\appdata\\local\\programs\\python\\python38-32\\lib\\site-packages (from interpret-core[dash,debug,decisiontree,ebm,lime,linear,notebook,plotly,required,sensitivity,shap,treeinterpreter]>=0.2.1->interpret) (4.9.0)\n",
      "Requirement already satisfied: gevent>=1.3.6; extra == \"dash\" in c:\\users\\alex\\appdata\\local\\programs\\python\\python38-32\\lib\\site-packages (from interpret-core[dash,debug,decisiontree,ebm,lime,linear,notebook,plotly,required,sensitivity,shap,treeinterpreter]>=0.2.1->interpret) (20.6.2)\n",
      "Requirement already satisfied: requests>=2.19.0; extra == \"dash\" in c:\\users\\alex\\appdata\\local\\programs\\python\\python38-32\\lib\\site-packages (from interpret-core[dash,debug,decisiontree,ebm,lime,linear,notebook,plotly,required,sensitivity,shap,treeinterpreter]>=0.2.1->interpret) (2.24.0)\n",
      "Requirement already satisfied: dash>=1.0.0; extra == \"dash\" in c:\\users\\alex\\appdata\\local\\programs\\python\\python38-32\\lib\\site-packages (from interpret-core[dash,debug,decisiontree,ebm,lime,linear,notebook,plotly,required,sensitivity,shap,treeinterpreter]>=0.2.1->interpret) (1.14.0)\n",
      "Requirement already satisfied: dash-cytoscape>=0.1.1; extra == \"dash\" in c:\\users\\alex\\appdata\\local\\programs\\python\\python38-32\\lib\\site-packages (from interpret-core[dash,debug,decisiontree,ebm,lime,linear,notebook,plotly,required,sensitivity,shap,treeinterpreter]>=0.2.1->interpret) (0.2.0)\n",
      "Requirement already satisfied: psutil>=5.6.2; extra == \"debug\" in c:\\users\\alex\\appdata\\local\\programs\\python\\python38-32\\lib\\site-packages (from interpret-core[dash,debug,decisiontree,ebm,lime,linear,notebook,plotly,required,sensitivity,shap,treeinterpreter]>=0.2.1->interpret) (5.7.2)\n",
      "Requirement already satisfied: joblib>=0.11; extra == \"decisiontree\" in c:\\users\\alex\\appdata\\local\\programs\\python\\python38-32\\lib\\site-packages (from interpret-core[dash,debug,decisiontree,ebm,lime,linear,notebook,plotly,required,sensitivity,shap,treeinterpreter]>=0.2.1->interpret) (0.16.0)\n",
      "Requirement already satisfied: lime>=0.1.1.33; extra == \"lime\" in c:\\users\\alex\\appdata\\local\\programs\\python\\python38-32\\lib\\site-packages (from interpret-core[dash,debug,decisiontree,ebm,lime,linear,notebook,plotly,required,sensitivity,shap,treeinterpreter]>=0.2.1->interpret) (0.2.0.1)\n",
      "Requirement already satisfied: ipykernel>=5.1.0; extra == \"notebook\" in c:\\users\\alex\\appdata\\local\\programs\\python\\python38-32\\lib\\site-packages (from interpret-core[dash,debug,decisiontree,ebm,lime,linear,notebook,plotly,required,sensitivity,shap,treeinterpreter]>=0.2.1->interpret) (5.3.4)\n",
      "Requirement already satisfied: ipython>=7.4.0; extra == \"notebook\" in c:\\users\\alex\\appdata\\local\\programs\\python\\python38-32\\lib\\site-packages (from interpret-core[dash,debug,decisiontree,ebm,lime,linear,notebook,plotly,required,sensitivity,shap,treeinterpreter]>=0.2.1->interpret) (7.17.0)\n",
      "Requirement already satisfied: plotly>=3.8.1; extra == \"plotly\" in c:\\users\\alex\\appdata\\local\\programs\\python\\python38-32\\lib\\site-packages (from interpret-core[dash,debug,decisiontree,ebm,lime,linear,notebook,plotly,required,sensitivity,shap,treeinterpreter]>=0.2.1->interpret) (4.9.0)\n",
      "Requirement already satisfied: scikit-learn>=0.18.1; extra == \"required\" in c:\\users\\alex\\appdata\\local\\programs\\python\\python38-32\\lib\\site-packages (from interpret-core[dash,debug,decisiontree,ebm,lime,linear,notebook,plotly,required,sensitivity,shap,treeinterpreter]>=0.2.1->interpret) (0.23.2)\n",
      "Requirement already satisfied: scipy>=0.18.1; extra == \"required\" in c:\\users\\alex\\appdata\\local\\programs\\python\\python38-32\\lib\\site-packages (from interpret-core[dash,debug,decisiontree,ebm,lime,linear,notebook,plotly,required,sensitivity,shap,treeinterpreter]>=0.2.1->interpret) (1.5.2)\n",
      "Requirement already satisfied: pandas>=0.19.2; extra == \"required\" in c:\\users\\alex\\appdata\\local\\programs\\python\\python38-32\\lib\\site-packages (from interpret-core[dash,debug,decisiontree,ebm,lime,linear,notebook,plotly,required,sensitivity,shap,treeinterpreter]>=0.2.1->interpret) (1.1.0)\n",
      "Requirement already satisfied: numpy>=1.11.1; extra == \"required\" in c:\\users\\alex\\appdata\\local\\programs\\python\\python38-32\\lib\\site-packages (from interpret-core[dash,debug,decisiontree,ebm,lime,linear,notebook,plotly,required,sensitivity,shap,treeinterpreter]>=0.2.1->interpret) (1.19.1)\n",
      "Requirement already satisfied: SALib>=1.3.3; extra == \"sensitivity\" in c:\\users\\alex\\appdata\\local\\programs\\python\\python38-32\\lib\\site-packages (from interpret-core[dash,debug,decisiontree,ebm,lime,linear,notebook,plotly,required,sensitivity,shap,treeinterpreter]>=0.2.1->interpret) (1.3.11)\n",
      "Requirement already satisfied: dill>=0.2.5; extra == \"shap\" in c:\\users\\alex\\appdata\\local\\programs\\python\\python38-32\\lib\\site-packages (from interpret-core[dash,debug,decisiontree,ebm,lime,linear,notebook,plotly,required,sensitivity,shap,treeinterpreter]>=0.2.1->interpret) (0.3.2)\n",
      "Requirement already satisfied: shap>=0.28.5; extra == \"shap\" in c:\\users\\alex\\appdata\\local\\programs\\python\\python38-32\\lib\\site-packages (from interpret-core[dash,debug,decisiontree,ebm,lime,linear,notebook,plotly,required,sensitivity,shap,treeinterpreter]>=0.2.1->interpret) (0.35.0)\n",
      "Requirement already satisfied: treeinterpreter>=0.2.2; extra == \"treeinterpreter\" in c:\\users\\alex\\appdata\\local\\programs\\python\\python38-32\\lib\\site-packages (from interpret-core[dash,debug,decisiontree,ebm,lime,linear,notebook,plotly,required,sensitivity,shap,treeinterpreter]>=0.2.1->interpret) (0.2.2)\n",
      "Requirement already satisfied: zope.interface in c:\\users\\alex\\appdata\\local\\programs\\python\\python38-32\\lib\\site-packages (from gevent>=1.3.6; extra == \"dash\"->interpret-core[dash,debug,decisiontree,ebm,lime,linear,notebook,plotly,required,sensitivity,shap,treeinterpreter]>=0.2.1->interpret) (5.1.0)\n",
      "Requirement already satisfied: zope.event in c:\\users\\alex\\appdata\\local\\programs\\python\\python38-32\\lib\\site-packages (from gevent>=1.3.6; extra == \"dash\"->interpret-core[dash,debug,decisiontree,ebm,lime,linear,notebook,plotly,required,sensitivity,shap,treeinterpreter]>=0.2.1->interpret) (4.4)\n",
      "Requirement already satisfied: cffi>=1.12.2; platform_python_implementation == \"CPython\" and sys_platform == \"win32\" in c:\\users\\alex\\appdata\\local\\programs\\python\\python38-32\\lib\\site-packages (from gevent>=1.3.6; extra == \"dash\"->interpret-core[dash,debug,decisiontree,ebm,lime,linear,notebook,plotly,required,sensitivity,shap,treeinterpreter]>=0.2.1->interpret) (1.14.1)\n",
      "Requirement already satisfied: setuptools in c:\\users\\alex\\appdata\\local\\programs\\python\\python38-32\\lib\\site-packages (from gevent>=1.3.6; extra == \"dash\"->interpret-core[dash,debug,decisiontree,ebm,lime,linear,notebook,plotly,required,sensitivity,shap,treeinterpreter]>=0.2.1->interpret) (47.1.0)\n",
      "Requirement already satisfied: greenlet>=0.4.16; platform_python_implementation == \"CPython\" in c:\\users\\alex\\appdata\\local\\programs\\python\\python38-32\\lib\\site-packages (from gevent>=1.3.6; extra == \"dash\"->interpret-core[dash,debug,decisiontree,ebm,lime,linear,notebook,plotly,required,sensitivity,shap,treeinterpreter]>=0.2.1->interpret) (0.4.16)\n",
      "Requirement already satisfied: urllib3!=1.25.0,!=1.25.1,<1.26,>=1.21.1 in c:\\users\\alex\\appdata\\local\\programs\\python\\python38-32\\lib\\site-packages (from requests>=2.19.0; extra == \"dash\"->interpret-core[dash,debug,decisiontree,ebm,lime,linear,notebook,plotly,required,sensitivity,shap,treeinterpreter]>=0.2.1->interpret) (1.25.10)\n",
      "Requirement already satisfied: chardet<4,>=3.0.2 in c:\\users\\alex\\appdata\\local\\programs\\python\\python38-32\\lib\\site-packages (from requests>=2.19.0; extra == \"dash\"->interpret-core[dash,debug,decisiontree,ebm,lime,linear,notebook,plotly,required,sensitivity,shap,treeinterpreter]>=0.2.1->interpret) (3.0.4)\n",
      "Requirement already satisfied: certifi>=2017.4.17 in c:\\users\\alex\\appdata\\local\\programs\\python\\python38-32\\lib\\site-packages (from requests>=2.19.0; extra == \"dash\"->interpret-core[dash,debug,decisiontree,ebm,lime,linear,notebook,plotly,required,sensitivity,shap,treeinterpreter]>=0.2.1->interpret) (2020.6.20)\n",
      "Requirement already satisfied: idna<3,>=2.5 in c:\\users\\alex\\appdata\\local\\programs\\python\\python38-32\\lib\\site-packages (from requests>=2.19.0; extra == \"dash\"->interpret-core[dash,debug,decisiontree,ebm,lime,linear,notebook,plotly,required,sensitivity,shap,treeinterpreter]>=0.2.1->interpret) (2.10)\n",
      "Requirement already satisfied: Flask>=1.0.2 in c:\\users\\alex\\appdata\\local\\programs\\python\\python38-32\\lib\\site-packages (from dash>=1.0.0; extra == \"dash\"->interpret-core[dash,debug,decisiontree,ebm,lime,linear,notebook,plotly,required,sensitivity,shap,treeinterpreter]>=0.2.1->interpret) (1.1.2)\n",
      "Requirement already satisfied: flask-compress in c:\\users\\alex\\appdata\\local\\programs\\python\\python38-32\\lib\\site-packages (from dash>=1.0.0; extra == \"dash\"->interpret-core[dash,debug,decisiontree,ebm,lime,linear,notebook,plotly,required,sensitivity,shap,treeinterpreter]>=0.2.1->interpret) (1.5.0)\n",
      "Requirement already satisfied: dash_renderer==1.6.0 in c:\\users\\alex\\appdata\\local\\programs\\python\\python38-32\\lib\\site-packages (from dash>=1.0.0; extra == \"dash\"->interpret-core[dash,debug,decisiontree,ebm,lime,linear,notebook,plotly,required,sensitivity,shap,treeinterpreter]>=0.2.1->interpret) (1.6.0)\n",
      "Requirement already satisfied: dash-core-components==1.10.2 in c:\\users\\alex\\appdata\\local\\programs\\python\\python38-32\\lib\\site-packages (from dash>=1.0.0; extra == \"dash\"->interpret-core[dash,debug,decisiontree,ebm,lime,linear,notebook,plotly,required,sensitivity,shap,treeinterpreter]>=0.2.1->interpret) (1.10.2)\n",
      "Requirement already satisfied: dash-html-components==1.0.3 in c:\\users\\alex\\appdata\\local\\programs\\python\\python38-32\\lib\\site-packages (from dash>=1.0.0; extra == \"dash\"->interpret-core[dash,debug,decisiontree,ebm,lime,linear,notebook,plotly,required,sensitivity,shap,treeinterpreter]>=0.2.1->interpret) (1.0.3)\n",
      "Requirement already satisfied: future in c:\\users\\alex\\appdata\\local\\programs\\python\\python38-32\\lib\\site-packages (from dash>=1.0.0; extra == \"dash\"->interpret-core[dash,debug,decisiontree,ebm,lime,linear,notebook,plotly,required,sensitivity,shap,treeinterpreter]>=0.2.1->interpret) (0.18.2)\n",
      "Requirement already satisfied: matplotlib in c:\\users\\alex\\appdata\\local\\programs\\python\\python38-32\\lib\\site-packages (from lime>=0.1.1.33; extra == \"lime\"->interpret-core[dash,debug,decisiontree,ebm,lime,linear,notebook,plotly,required,sensitivity,shap,treeinterpreter]>=0.2.1->interpret) (3.3.0)\n",
      "Requirement already satisfied: tqdm in c:\\users\\alex\\appdata\\local\\programs\\python\\python38-32\\lib\\site-packages (from lime>=0.1.1.33; extra == \"lime\"->interpret-core[dash,debug,decisiontree,ebm,lime,linear,notebook,plotly,required,sensitivity,shap,treeinterpreter]>=0.2.1->interpret) (4.48.2)\n",
      "Requirement already satisfied: scikit-image>=0.12 in c:\\users\\alex\\appdata\\local\\programs\\python\\python38-32\\lib\\site-packages (from lime>=0.1.1.33; extra == \"lime\"->interpret-core[dash,debug,decisiontree,ebm,lime,linear,notebook,plotly,required,sensitivity,shap,treeinterpreter]>=0.2.1->interpret) (0.17.2)\n",
      "Requirement already satisfied: traitlets>=4.1.0 in c:\\users\\alex\\appdata\\local\\programs\\python\\python38-32\\lib\\site-packages (from ipykernel>=5.1.0; extra == \"notebook\"->interpret-core[dash,debug,decisiontree,ebm,lime,linear,notebook,plotly,required,sensitivity,shap,treeinterpreter]>=0.2.1->interpret) (4.3.3)\n",
      "Requirement already satisfied: tornado>=4.2 in c:\\users\\alex\\appdata\\local\\programs\\python\\python38-32\\lib\\site-packages (from ipykernel>=5.1.0; extra == \"notebook\"->interpret-core[dash,debug,decisiontree,ebm,lime,linear,notebook,plotly,required,sensitivity,shap,treeinterpreter]>=0.2.1->interpret) (6.0.4)\n",
      "Requirement already satisfied: jupyter-client in c:\\users\\alex\\appdata\\local\\programs\\python\\python38-32\\lib\\site-packages (from ipykernel>=5.1.0; extra == \"notebook\"->interpret-core[dash,debug,decisiontree,ebm,lime,linear,notebook,plotly,required,sensitivity,shap,treeinterpreter]>=0.2.1->interpret) (6.1.6)\n",
      "Requirement already satisfied: jedi>=0.10 in c:\\users\\alex\\appdata\\local\\programs\\python\\python38-32\\lib\\site-packages (from ipython>=7.4.0; extra == \"notebook\"->interpret-core[dash,debug,decisiontree,ebm,lime,linear,notebook,plotly,required,sensitivity,shap,treeinterpreter]>=0.2.1->interpret) (0.17.2)\n",
      "Requirement already satisfied: prompt-toolkit!=3.0.0,!=3.0.1,<3.1.0,>=2.0.0 in c:\\users\\alex\\appdata\\local\\programs\\python\\python38-32\\lib\\site-packages (from ipython>=7.4.0; extra == \"notebook\"->interpret-core[dash,debug,decisiontree,ebm,lime,linear,notebook,plotly,required,sensitivity,shap,treeinterpreter]>=0.2.1->interpret) (3.0.6)\n",
      "Requirement already satisfied: backcall in c:\\users\\alex\\appdata\\local\\programs\\python\\python38-32\\lib\\site-packages (from ipython>=7.4.0; extra == \"notebook\"->interpret-core[dash,debug,decisiontree,ebm,lime,linear,notebook,plotly,required,sensitivity,shap,treeinterpreter]>=0.2.1->interpret) (0.2.0)\n",
      "Requirement already satisfied: colorama; sys_platform == \"win32\" in c:\\users\\alex\\appdata\\local\\programs\\python\\python38-32\\lib\\site-packages (from ipython>=7.4.0; extra == \"notebook\"->interpret-core[dash,debug,decisiontree,ebm,lime,linear,notebook,plotly,required,sensitivity,shap,treeinterpreter]>=0.2.1->interpret) (0.4.3)\n",
      "Requirement already satisfied: pygments in c:\\users\\alex\\appdata\\local\\programs\\python\\python38-32\\lib\\site-packages (from ipython>=7.4.0; extra == \"notebook\"->interpret-core[dash,debug,decisiontree,ebm,lime,linear,notebook,plotly,required,sensitivity,shap,treeinterpreter]>=0.2.1->interpret) (2.6.1)\n",
      "Requirement already satisfied: pickleshare in c:\\users\\alex\\appdata\\local\\programs\\python\\python38-32\\lib\\site-packages (from ipython>=7.4.0; extra == \"notebook\"->interpret-core[dash,debug,decisiontree,ebm,lime,linear,notebook,plotly,required,sensitivity,shap,treeinterpreter]>=0.2.1->interpret) (0.7.5)\n",
      "Requirement already satisfied: decorator in c:\\users\\alex\\appdata\\local\\programs\\python\\python38-32\\lib\\site-packages (from ipython>=7.4.0; extra == \"notebook\"->interpret-core[dash,debug,decisiontree,ebm,lime,linear,notebook,plotly,required,sensitivity,shap,treeinterpreter]>=0.2.1->interpret) (4.4.2)\n",
      "Requirement already satisfied: six in c:\\users\\alex\\appdata\\local\\programs\\python\\python38-32\\lib\\site-packages (from plotly>=3.8.1; extra == \"plotly\"->interpret-core[dash,debug,decisiontree,ebm,lime,linear,notebook,plotly,required,sensitivity,shap,treeinterpreter]>=0.2.1->interpret) (1.15.0)\n",
      "Requirement already satisfied: retrying>=1.3.3 in c:\\users\\alex\\appdata\\local\\programs\\python\\python38-32\\lib\\site-packages (from plotly>=3.8.1; extra == \"plotly\"->interpret-core[dash,debug,decisiontree,ebm,lime,linear,notebook,plotly,required,sensitivity,shap,treeinterpreter]>=0.2.1->interpret) (1.3.3)\n",
      "Requirement already satisfied: threadpoolctl>=2.0.0 in c:\\users\\alex\\appdata\\local\\programs\\python\\python38-32\\lib\\site-packages (from scikit-learn>=0.18.1; extra == \"required\"->interpret-core[dash,debug,decisiontree,ebm,lime,linear,notebook,plotly,required,sensitivity,shap,treeinterpreter]>=0.2.1->interpret) (2.1.0)\n",
      "Requirement already satisfied: pytz>=2017.2 in c:\\users\\alex\\appdata\\local\\programs\\python\\python38-32\\lib\\site-packages (from pandas>=0.19.2; extra == \"required\"->interpret-core[dash,debug,decisiontree,ebm,lime,linear,notebook,plotly,required,sensitivity,shap,treeinterpreter]>=0.2.1->interpret) (2020.1)\n",
      "Requirement already satisfied: python-dateutil>=2.7.3 in c:\\users\\alex\\appdata\\local\\programs\\python\\python38-32\\lib\\site-packages (from pandas>=0.19.2; extra == \"required\"->interpret-core[dash,debug,decisiontree,ebm,lime,linear,notebook,plotly,required,sensitivity,shap,treeinterpreter]>=0.2.1->interpret) (2.8.1)\n",
      "Requirement already satisfied: pycparser in c:\\users\\alex\\appdata\\local\\programs\\python\\python38-32\\lib\\site-packages (from cffi>=1.12.2; platform_python_implementation == \"CPython\" and sys_platform == \"win32\"->gevent>=1.3.6; extra == \"dash\"->interpret-core[dash,debug,decisiontree,ebm,lime,linear,notebook,plotly,required,sensitivity,shap,treeinterpreter]>=0.2.1->interpret) (2.20)\n",
      "Requirement already satisfied: Werkzeug>=0.15 in c:\\users\\alex\\appdata\\local\\programs\\python\\python38-32\\lib\\site-packages (from Flask>=1.0.2->dash>=1.0.0; extra == \"dash\"->interpret-core[dash,debug,decisiontree,ebm,lime,linear,notebook,plotly,required,sensitivity,shap,treeinterpreter]>=0.2.1->interpret) (1.0.1)\n",
      "Requirement already satisfied: Jinja2>=2.10.1 in c:\\users\\alex\\appdata\\local\\programs\\python\\python38-32\\lib\\site-packages (from Flask>=1.0.2->dash>=1.0.0; extra == \"dash\"->interpret-core[dash,debug,decisiontree,ebm,lime,linear,notebook,plotly,required,sensitivity,shap,treeinterpreter]>=0.2.1->interpret) (2.11.2)\n",
      "Requirement already satisfied: itsdangerous>=0.24 in c:\\users\\alex\\appdata\\local\\programs\\python\\python38-32\\lib\\site-packages (from Flask>=1.0.2->dash>=1.0.0; extra == \"dash\"->interpret-core[dash,debug,decisiontree,ebm,lime,linear,notebook,plotly,required,sensitivity,shap,treeinterpreter]>=0.2.1->interpret) (1.1.0)\n",
      "Requirement already satisfied: click>=5.1 in c:\\users\\alex\\appdata\\local\\programs\\python\\python38-32\\lib\\site-packages (from Flask>=1.0.2->dash>=1.0.0; extra == \"dash\"->interpret-core[dash,debug,decisiontree,ebm,lime,linear,notebook,plotly,required,sensitivity,shap,treeinterpreter]>=0.2.1->interpret) (7.1.2)\n",
      "Requirement already satisfied: brotli in c:\\users\\alex\\appdata\\local\\programs\\python\\python38-32\\lib\\site-packages (from flask-compress->dash>=1.0.0; extra == \"dash\"->interpret-core[dash,debug,decisiontree,ebm,lime,linear,notebook,plotly,required,sensitivity,shap,treeinterpreter]>=0.2.1->interpret) (1.0.7)\n",
      "Requirement already satisfied: cycler>=0.10 in c:\\users\\alex\\appdata\\local\\programs\\python\\python38-32\\lib\\site-packages (from matplotlib->lime>=0.1.1.33; extra == \"lime\"->interpret-core[dash,debug,decisiontree,ebm,lime,linear,notebook,plotly,required,sensitivity,shap,treeinterpreter]>=0.2.1->interpret) (0.10.0)\n",
      "Requirement already satisfied: pillow>=6.2.0 in c:\\users\\alex\\appdata\\local\\programs\\python\\python38-32\\lib\\site-packages (from matplotlib->lime>=0.1.1.33; extra == \"lime\"->interpret-core[dash,debug,decisiontree,ebm,lime,linear,notebook,plotly,required,sensitivity,shap,treeinterpreter]>=0.2.1->interpret) (7.2.0)\n",
      "Requirement already satisfied: pyparsing!=2.0.4,!=2.1.2,!=2.1.6,>=2.0.3 in c:\\users\\alex\\appdata\\local\\programs\\python\\python38-32\\lib\\site-packages (from matplotlib->lime>=0.1.1.33; extra == \"lime\"->interpret-core[dash,debug,decisiontree,ebm,lime,linear,notebook,plotly,required,sensitivity,shap,treeinterpreter]>=0.2.1->interpret) (2.4.7)\n",
      "Requirement already satisfied: kiwisolver>=1.0.1 in c:\\users\\alex\\appdata\\local\\programs\\python\\python38-32\\lib\\site-packages (from matplotlib->lime>=0.1.1.33; extra == \"lime\"->interpret-core[dash,debug,decisiontree,ebm,lime,linear,notebook,plotly,required,sensitivity,shap,treeinterpreter]>=0.2.1->interpret) (1.2.0)\n",
      "Requirement already satisfied: tifffile>=2019.7.26 in c:\\users\\alex\\appdata\\local\\programs\\python\\python38-32\\lib\\site-packages (from scikit-image>=0.12->lime>=0.1.1.33; extra == \"lime\"->interpret-core[dash,debug,decisiontree,ebm,lime,linear,notebook,plotly,required,sensitivity,shap,treeinterpreter]>=0.2.1->interpret) (2020.7.24)\n",
      "Requirement already satisfied: imageio>=2.3.0 in c:\\users\\alex\\appdata\\local\\programs\\python\\python38-32\\lib\\site-packages (from scikit-image>=0.12->lime>=0.1.1.33; extra == \"lime\"->interpret-core[dash,debug,decisiontree,ebm,lime,linear,notebook,plotly,required,sensitivity,shap,treeinterpreter]>=0.2.1->interpret) (2.9.0)\n",
      "Requirement already satisfied: PyWavelets>=1.1.1 in c:\\users\\alex\\appdata\\local\\programs\\python\\python38-32\\lib\\site-packages (from scikit-image>=0.12->lime>=0.1.1.33; extra == \"lime\"->interpret-core[dash,debug,decisiontree,ebm,lime,linear,notebook,plotly,required,sensitivity,shap,treeinterpreter]>=0.2.1->interpret) (1.1.1)\n",
      "Requirement already satisfied: networkx>=2.0 in c:\\users\\alex\\appdata\\local\\programs\\python\\python38-32\\lib\\site-packages (from scikit-image>=0.12->lime>=0.1.1.33; extra == \"lime\"->interpret-core[dash,debug,decisiontree,ebm,lime,linear,notebook,plotly,required,sensitivity,shap,treeinterpreter]>=0.2.1->interpret) (2.4)\n",
      "Requirement already satisfied: ipython-genutils in c:\\users\\alex\\appdata\\local\\programs\\python\\python38-32\\lib\\site-packages (from traitlets>=4.1.0->ipykernel>=5.1.0; extra == \"notebook\"->interpret-core[dash,debug,decisiontree,ebm,lime,linear,notebook,plotly,required,sensitivity,shap,treeinterpreter]>=0.2.1->interpret) (0.2.0)\n",
      "Requirement already satisfied: jupyter-core>=4.6.0 in c:\\users\\alex\\appdata\\local\\programs\\python\\python38-32\\lib\\site-packages (from jupyter-client->ipykernel>=5.1.0; extra == \"notebook\"->interpret-core[dash,debug,decisiontree,ebm,lime,linear,notebook,plotly,required,sensitivity,shap,treeinterpreter]>=0.2.1->interpret) (4.6.3)\n",
      "Requirement already satisfied: pyzmq>=13 in c:\\users\\alex\\appdata\\local\\programs\\python\\python38-32\\lib\\site-packages (from jupyter-client->ipykernel>=5.1.0; extra == \"notebook\"->interpret-core[dash,debug,decisiontree,ebm,lime,linear,notebook,plotly,required,sensitivity,shap,treeinterpreter]>=0.2.1->interpret) (19.0.2)\n",
      "Requirement already satisfied: parso<0.8.0,>=0.7.0 in c:\\users\\alex\\appdata\\local\\programs\\python\\python38-32\\lib\\site-packages (from jedi>=0.10->ipython>=7.4.0; extra == \"notebook\"->interpret-core[dash,debug,decisiontree,ebm,lime,linear,notebook,plotly,required,sensitivity,shap,treeinterpreter]>=0.2.1->interpret) (0.7.1)\n",
      "Requirement already satisfied: wcwidth in c:\\users\\alex\\appdata\\local\\programs\\python\\python38-32\\lib\\site-packages (from prompt-toolkit!=3.0.0,!=3.0.1,<3.1.0,>=2.0.0->ipython>=7.4.0; extra == \"notebook\"->interpret-core[dash,debug,decisiontree,ebm,lime,linear,notebook,plotly,required,sensitivity,shap,treeinterpreter]>=0.2.1->interpret) (0.2.5)\n",
      "Requirement already satisfied: MarkupSafe>=0.23 in c:\\users\\alex\\appdata\\local\\programs\\python\\python38-32\\lib\\site-packages (from Jinja2>=2.10.1->Flask>=1.0.2->dash>=1.0.0; extra == \"dash\"->interpret-core[dash,debug,decisiontree,ebm,lime,linear,notebook,plotly,required,sensitivity,shap,treeinterpreter]>=0.2.1->interpret) (1.1.1)\n"
     ]
    },
    {
     "name": "stdout",
     "output_type": "stream",
     "text": [
      "Requirement already satisfied: pywin32>=1.0; sys_platform == \"win32\" in c:\\users\\alex\\appdata\\local\\programs\\python\\python38-32\\lib\\site-packages (from jupyter-core>=4.6.0->jupyter-client->ipykernel>=5.1.0; extra == \"notebook\"->interpret-core[dash,debug,decisiontree,ebm,lime,linear,notebook,plotly,required,sensitivity,shap,treeinterpreter]>=0.2.1->interpret) (228)\n",
      "Collecting sklearn\n",
      "  Downloading sklearn-0.0.tar.gz (1.1 kB)\n",
      "Requirement already satisfied: scikit-learn in c:\\users\\alex\\appdata\\local\\programs\\python\\python38-32\\lib\\site-packages (from sklearn) (0.23.2)\n",
      "Requirement already satisfied: numpy>=1.13.3 in c:\\users\\alex\\appdata\\local\\programs\\python\\python38-32\\lib\\site-packages (from scikit-learn->sklearn) (1.19.1)\n",
      "Requirement already satisfied: threadpoolctl>=2.0.0 in c:\\users\\alex\\appdata\\local\\programs\\python\\python38-32\\lib\\site-packages (from scikit-learn->sklearn) (2.1.0)\n",
      "Requirement already satisfied: scipy>=0.19.1 in c:\\users\\alex\\appdata\\local\\programs\\python\\python38-32\\lib\\site-packages (from scikit-learn->sklearn) (1.5.2)\n",
      "Requirement already satisfied: joblib>=0.11 in c:\\users\\alex\\appdata\\local\\programs\\python\\python38-32\\lib\\site-packages (from scikit-learn->sklearn) (0.16.0)\n",
      "Building wheels for collected packages: sklearn\n",
      "  Building wheel for sklearn (setup.py): started\n",
      "  Building wheel for sklearn (setup.py): finished with status 'done'\n",
      "  Created wheel for sklearn: filename=sklearn-0.0-py2.py3-none-any.whl size=1320 sha256=99268e9c654047053c03e377f403745b8284f8708d8981fc71ccd7f6605372a1\n",
      "  Stored in directory: c:\\users\\alex\\appdata\\local\\pip\\cache\\wheels\\22\\0b\\40\\fd3f795caaa1fb4c6cb738bc1f56100be1e57da95849bfc897\n",
      "Successfully built sklearn\n",
      "Installing collected packages: sklearn\n",
      "Successfully installed sklearn-0.0\n"
     ]
    }
   ],
   "source": [
    "import sys\n",
    "!{sys.executable} -m pip install pandas\n",
    "!{sys.executable} -m pip install pandas_datareader\n",
    "!{sys.executable} -m pip install matplotlib\n",
    "!{sys.executable} -m pip install interpret\n",
    "!{sys.executable} -m pip install sklearn"
   ]
  },
  {
   "cell_type": "code",
   "execution_count": 2,
   "metadata": {},
   "outputs": [
    {
     "data": {
      "text/html": [
       "<div>\n",
       "<style scoped>\n",
       "    .dataframe tbody tr th:only-of-type {\n",
       "        vertical-align: middle;\n",
       "    }\n",
       "\n",
       "    .dataframe tbody tr th {\n",
       "        vertical-align: top;\n",
       "    }\n",
       "\n",
       "    .dataframe thead th {\n",
       "        text-align: right;\n",
       "    }\n",
       "</style>\n",
       "<table border=\"1\" class=\"dataframe\">\n",
       "  <thead>\n",
       "    <tr style=\"text-align: right;\">\n",
       "      <th></th>\n",
       "      <th>High</th>\n",
       "      <th>Low</th>\n",
       "      <th>Open</th>\n",
       "      <th>Close</th>\n",
       "      <th>Volume</th>\n",
       "      <th>Adj Close</th>\n",
       "    </tr>\n",
       "    <tr>\n",
       "      <th>Date</th>\n",
       "      <th></th>\n",
       "      <th></th>\n",
       "      <th></th>\n",
       "      <th></th>\n",
       "      <th></th>\n",
       "      <th></th>\n",
       "    </tr>\n",
       "  </thead>\n",
       "  <tbody>\n",
       "    <tr>\n",
       "      <th>2017-01-05</th>\n",
       "      <td>116.860001</td>\n",
       "      <td>115.809998</td>\n",
       "      <td>115.919998</td>\n",
       "      <td>116.610001</td>\n",
       "      <td>22193600.0</td>\n",
       "      <td>110.630081</td>\n",
       "    </tr>\n",
       "    <tr>\n",
       "      <th>2017-01-06</th>\n",
       "      <td>118.160004</td>\n",
       "      <td>116.470001</td>\n",
       "      <td>116.779999</td>\n",
       "      <td>117.910004</td>\n",
       "      <td>31751900.0</td>\n",
       "      <td>111.863426</td>\n",
       "    </tr>\n",
       "    <tr>\n",
       "      <th>2017-01-09</th>\n",
       "      <td>119.430000</td>\n",
       "      <td>117.940002</td>\n",
       "      <td>117.949997</td>\n",
       "      <td>118.989998</td>\n",
       "      <td>33561900.0</td>\n",
       "      <td>112.888023</td>\n",
       "    </tr>\n",
       "    <tr>\n",
       "      <th>2017-01-10</th>\n",
       "      <td>119.379997</td>\n",
       "      <td>118.300003</td>\n",
       "      <td>118.769997</td>\n",
       "      <td>119.110001</td>\n",
       "      <td>24462100.0</td>\n",
       "      <td>113.001884</td>\n",
       "    </tr>\n",
       "    <tr>\n",
       "      <th>2017-01-11</th>\n",
       "      <td>119.930000</td>\n",
       "      <td>118.599998</td>\n",
       "      <td>118.739998</td>\n",
       "      <td>119.750000</td>\n",
       "      <td>27588600.0</td>\n",
       "      <td>113.609047</td>\n",
       "    </tr>\n",
       "  </tbody>\n",
       "</table>\n",
       "</div>"
      ],
      "text/plain": [
       "                  High         Low        Open       Close      Volume  \\\n",
       "Date                                                                     \n",
       "2017-01-05  116.860001  115.809998  115.919998  116.610001  22193600.0   \n",
       "2017-01-06  118.160004  116.470001  116.779999  117.910004  31751900.0   \n",
       "2017-01-09  119.430000  117.940002  117.949997  118.989998  33561900.0   \n",
       "2017-01-10  119.379997  118.300003  118.769997  119.110001  24462100.0   \n",
       "2017-01-11  119.930000  118.599998  118.739998  119.750000  27588600.0   \n",
       "\n",
       "             Adj Close  \n",
       "Date                    \n",
       "2017-01-05  110.630081  \n",
       "2017-01-06  111.863426  \n",
       "2017-01-09  112.888023  \n",
       "2017-01-10  113.001884  \n",
       "2017-01-11  113.609047  "
      ]
     },
     "execution_count": 2,
     "metadata": {},
     "output_type": "execute_result"
    }
   ],
   "source": [
    "import pandas as pd\n",
    "import datetime\n",
    "import pandas_datareader.data as web\n",
    "from pandas import Series, DataFrame\n",
    "import matplotlib.pyplot as plt\n",
    "from matplotlib import style\n",
    "\n",
    "start = datetime.datetime(2010, 1, 1)\n",
    "end = datetime.datetime(2017, 1, 11)\n",
    "\n",
    "df = web.DataReader(\"AAPL\", 'yahoo', start, end)\n",
    "df.tail()"
   ]
  },
  {
   "cell_type": "code",
   "execution_count": 3,
   "metadata": {
    "jupyter": {
     "outputs_hidden": false,
     "source_hidden": false
    },
    "nteract": {
     "transient": {
      "deleting": false
     }
    }
   },
   "outputs": [],
   "source": [
    "close_px = df['Adj Close']\n",
    "mavg = close_px.rolling(window=100).mean()"
   ]
  },
  {
   "cell_type": "code",
   "execution_count": 4,
   "metadata": {
    "jupyter": {
     "outputs_hidden": false,
     "source_hidden": false
    },
    "nteract": {
     "transient": {
      "deleting": false
     }
    }
   },
   "outputs": [
    {
     "data": {
      "text/plain": [
       "<matplotlib.legend.Legend at 0xcb44250>"
      ]
     },
     "execution_count": 4,
     "metadata": {},
     "output_type": "execute_result"
    },
    {
     "data": {
      "image/png": "[encoded data removed]",
      "text/plain": [
       "<Figure size 576x504 with 1 Axes>"
      ]
     },
     "metadata": {},
     "output_type": "display_data"
    }
   ],
   "source": [
    "import matplotlib as mpl\n",
    "mpl.rc('figure', figsize=(8, 7))\n",
    "mpl.__version__\n",
    "\n",
    "style.use('ggplot')\n",
    "\n",
    "close_px.plot(label='AAPL')\n",
    "mavg.plot(label='mavg')\n",
    "plt.legend()"
   ]
  },
  {
   "cell_type": "code",
   "execution_count": 5,
   "metadata": {
    "jupyter": {
     "outputs_hidden": false,
     "source_hidden": false
    },
    "nteract": {
     "transient": {
      "deleting": false
     }
    }
   },
   "outputs": [],
   "source": [
    "from sklearn.model_selection import train_test_split\n",
    "\n",
    "train_cols = df.columns[0:-1]\n",
    "label = df.columns[-1]\n",
    "X = df[train_cols]\n",
    "y = df[label]\n",
    "\n",
    "seed = 1\n",
    "X_train, X_test, y_train, y_test = train_test_split(X, y, test_size=0.20, random_state=seed)"
   ]
  },
  {
   "cell_type": "markdown",
   "metadata": {
    "nteract": {
     "transient": {
      "deleting": false
     }
    }
   },
   "source": [
    "# X Values"
   ]
  },
  {
   "cell_type": "code",
   "execution_count": 6,
   "metadata": {
    "jupyter": {
     "outputs_hidden": false,
     "source_hidden": false
    },
    "nteract": {
     "transient": {
      "deleting": false
     }
    }
   },
   "outputs": [
    {
     "name": "stdout",
     "output_type": "stream",
     "text": [
      "                  High         Low        Open       Close       Volume\n",
      "Date                                                                   \n",
      "2010-01-04   30.642857   30.340000   30.490000   30.572857  123432400.0\n",
      "2010-01-05   30.798571   30.464285   30.657143   30.625713  150476200.0\n",
      "2010-01-06   30.747143   30.107143   30.625713   30.138571  138040000.0\n",
      "2010-01-07   30.285715   29.864286   30.250000   30.082857  119282800.0\n",
      "2010-01-08   30.285715   29.865715   30.042856   30.282858  111902700.0\n",
      "...                ...         ...         ...         ...          ...\n",
      "2017-01-05  116.860001  115.809998  115.919998  116.610001   22193600.0\n",
      "2017-01-06  118.160004  116.470001  116.779999  117.910004   31751900.0\n",
      "2017-01-09  119.430000  117.940002  117.949997  118.989998   33561900.0\n",
      "2017-01-10  119.379997  118.300003  118.769997  119.110001   24462100.0\n",
      "2017-01-11  119.930000  118.599998  118.739998  119.750000   27588600.0\n",
      "\n",
      "[1769 rows x 5 columns]\n",
      "                  High         Low        Open       Close       Volume\n",
      "Date                                                                   \n",
      "2016-06-15   98.410004   97.029999   97.820000   97.139999   29445200.0\n",
      "2013-06-21   60.000000   58.299999   59.784286   59.071430  120279600.0\n",
      "2015-09-24  115.500000  112.370003  113.250000  115.000000   50219500.0\n",
      "2015-06-02  130.660004  129.320007  129.860001  129.960007   33667600.0\n",
      "2013-02-26   64.505714   62.522858   63.402859   64.138573  125374900.0\n",
      "...                ...         ...         ...         ...          ...\n",
      "2012-11-05   83.967140   82.514282   83.360001   83.517143  132283900.0\n",
      "2013-08-08   66.300003   65.421425   66.265717   65.858574   63944300.0\n",
      "2014-05-13   84.934288   84.385712   84.571426   84.822861   39934300.0\n",
      "2010-12-08   45.860001   45.301430   45.661430   45.858570   80483900.0\n",
      "2014-03-24   77.214287   76.437141   76.917145   77.027145   88925200.0\n",
      "\n",
      "[1415 rows x 5 columns]\n"
     ]
    }
   ],
   "source": [
    "print(X)\n",
    "\n",
    "print(X_train)"
   ]
  },
  {
   "cell_type": "markdown",
   "metadata": {
    "nteract": {
     "transient": {
      "deleting": false
     }
    }
   },
   "source": [
    "# Y Values"
   ]
  },
  {
   "cell_type": "code",
   "execution_count": 7,
   "metadata": {
    "jupyter": {
     "outputs_hidden": false,
     "source_hidden": false
    },
    "nteract": {
     "transient": {
      "deleting": false
     }
    }
   },
   "outputs": [
    {
     "name": "stdout",
     "output_type": "stream",
     "text": [
      "Date\n",
      "2010-01-04     26.419203\n",
      "2010-01-05     26.464878\n",
      "2010-01-06     26.043921\n",
      "2010-01-07     25.995777\n",
      "2010-01-08     26.168606\n",
      "                 ...    \n",
      "2017-01-05    110.630081\n",
      "2017-01-06    111.863426\n",
      "2017-01-09    112.888023\n",
      "2017-01-10    113.001884\n",
      "2017-01-11    113.609047\n",
      "Name: Adj Close, Length: 1769, dtype: float64\n",
      "Date\n",
      "2016-06-15     91.193764\n",
      "2013-06-21     52.142250\n",
      "2015-09-24    106.273109\n",
      "2015-06-02    119.556694\n",
      "2013-02-26     56.242744\n",
      "                 ...    \n",
      "2012-11-05     72.480324\n",
      "2013-08-08     58.517097\n",
      "2014-05-13     76.687088\n",
      "2010-12-08     39.628189\n",
      "2014-03-24     69.252289\n",
      "Name: Adj Close, Length: 1415, dtype: float64\n"
     ]
    }
   ],
   "source": [
    "print(y)\n",
    "\n",
    "print(y_train)"
   ]
  },
  {
   "cell_type": "code",
   "execution_count": 8,
   "metadata": {
    "jupyter": {
     "outputs_hidden": false,
     "source_hidden": false
    },
    "nteract": {
     "transient": {
      "deleting": false
     }
    }
   },
   "outputs": [
    {
     "ename": "Exception",
     "evalue": "Platform win32 at 32 bit not supported for EBM",
     "output_type": "error",
     "traceback": [
      "\u001b[1;31m---------------------------------------------------------------------------\u001b[0m",
      "\u001b[1;31m_RemoteTraceback\u001b[0m                          Traceback (most recent call last)",
      "\u001b[1;31m_RemoteTraceback\u001b[0m: \n\"\"\"\nTraceback (most recent call last):\n  File \"c:\\users\\alex\\appdata\\local\\programs\\python\\python38-32\\lib\\site-packages\\joblib\\externals\\loky\\process_executor.py\", line 431, in _process_worker\n    r = call_item()\n  File \"c:\\users\\alex\\appdata\\local\\programs\\python\\python38-32\\lib\\site-packages\\joblib\\externals\\loky\\process_executor.py\", line 285, in __call__\n    return self.fn(*self.args, **self.kwargs)\n  File \"c:\\users\\alex\\appdata\\local\\programs\\python\\python38-32\\lib\\site-packages\\joblib\\_parallel_backends.py\", line 595, in __call__\n    return self.func(*args, **kwargs)\n  File \"c:\\users\\alex\\appdata\\local\\programs\\python\\python38-32\\lib\\site-packages\\joblib\\parallel.py\", line 252, in __call__\n    return [func(*args, **kwargs)\n  File \"c:\\users\\alex\\appdata\\local\\programs\\python\\python38-32\\lib\\site-packages\\joblib\\parallel.py\", line 252, in <listcomp>\n    return [func(*args, **kwargs)\n  File \"c:\\users\\alex\\appdata\\local\\programs\\python\\python38-32\\lib\\site-packages\\interpret\\glassbox\\ebm\\ebm.py\", line 790, in train_model\n    return estimator.fit_parallel(X, y, n_classes)\n  File \"c:\\users\\alex\\appdata\\local\\programs\\python\\python38-32\\lib\\site-packages\\interpret\\glassbox\\ebm\\ebm.py\", line 420, in fit_parallel\n    self._fit_main(main_feature_indices, X_train, y_train, X_val, y_val)\n  File \"c:\\users\\alex\\appdata\\local\\programs\\python\\python38-32\\lib\\site-packages\\interpret\\glassbox\\ebm\\ebm.py\", line 442, in _fit_main\n    ) = NativeHelper.cyclic_gradient_boost(\n  File \"c:\\users\\alex\\appdata\\local\\programs\\python\\python38-32\\lib\\site-packages\\interpret\\glassbox\\ebm\\internal.py\", line 1025, in cyclic_gradient_boost\n    NativeEBMBoosting(\n  File \"c:\\users\\alex\\appdata\\local\\programs\\python\\python38-32\\lib\\site-packages\\interpret\\glassbox\\ebm\\internal.py\", line 541, in __init__\n    self._native = Native.get_native_singleton()\n  File \"c:\\users\\alex\\appdata\\local\\programs\\python\\python38-32\\lib\\site-packages\\interpret\\glassbox\\ebm\\internal.py\", line 38, in get_native_singleton\n    native._initialize(is_debug=is_debug, log_level=log_level)\n  File \"c:\\users\\alex\\appdata\\local\\programs\\python\\python38-32\\lib\\site-packages\\interpret\\glassbox\\ebm\\internal.py\", line 28, in _initialize\n    self.lib = ct.cdll.LoadLibrary(Native._get_ebm_lib_path(debug=is_debug))\n  File \"c:\\users\\alex\\appdata\\local\\programs\\python\\python38-32\\lib\\site-packages\\interpret\\glassbox\\ebm\\internal.py\", line 377, in _get_ebm_lib_path\n    raise Exception(msg)\nException: Platform win32 at 32 bit not supported for EBM\n\"\"\"",
      "\nThe above exception was the direct cause of the following exception:\n",
      "\u001b[1;31mException\u001b[0m                                 Traceback (most recent call last)",
      "\u001b[1;32m<ipython-input-8-0441fb192b33>\u001b[0m in \u001b[0;36m<module>\u001b[1;34m\u001b[0m\n\u001b[0;32m      2\u001b[0m \u001b[1;33m\u001b[0m\u001b[0m\n\u001b[0;32m      3\u001b[0m \u001b[0mebm\u001b[0m \u001b[1;33m=\u001b[0m \u001b[0mExplainableBoostingRegressor\u001b[0m\u001b[1;33m(\u001b[0m\u001b[0mrandom_state\u001b[0m\u001b[1;33m=\u001b[0m\u001b[0mseed\u001b[0m\u001b[1;33m)\u001b[0m\u001b[1;33m\u001b[0m\u001b[1;33m\u001b[0m\u001b[0m\n\u001b[1;32m----> 4\u001b[1;33m \u001b[0mebm\u001b[0m\u001b[1;33m.\u001b[0m\u001b[0mfit\u001b[0m\u001b[1;33m(\u001b[0m\u001b[0mX_train\u001b[0m\u001b[1;33m,\u001b[0m \u001b[0my_train\u001b[0m\u001b[1;33m)\u001b[0m\u001b[1;33m\u001b[0m\u001b[1;33m\u001b[0m\u001b[0m\n\u001b[0m",
      "\u001b[1;32mc:\\users\\alex\\appdata\\local\\programs\\python\\python38-32\\lib\\site-packages\\interpret\\glassbox\\ebm\\ebm.py\u001b[0m in \u001b[0;36mfit\u001b[1;34m(self, X, y)\u001b[0m\n\u001b[0;32m    794\u001b[0m         )\n\u001b[0;32m    795\u001b[0m \u001b[1;33m\u001b[0m\u001b[0m\n\u001b[1;32m--> 796\u001b[1;33m         \u001b[0mestimators\u001b[0m \u001b[1;33m=\u001b[0m \u001b[0mprovider\u001b[0m\u001b[1;33m.\u001b[0m\u001b[0mparallel\u001b[0m\u001b[1;33m(\u001b[0m\u001b[0mtrain_model\u001b[0m\u001b[1;33m,\u001b[0m \u001b[0mtrain_model_args_iter\u001b[0m\u001b[1;33m)\u001b[0m\u001b[1;33m\u001b[0m\u001b[1;33m\u001b[0m\u001b[0m\n\u001b[0m\u001b[0;32m    797\u001b[0m \u001b[1;33m\u001b[0m\u001b[0m\n\u001b[0;32m    798\u001b[0m         \u001b[1;32mif\u001b[0m \u001b[0misinstance\u001b[0m\u001b[1;33m(\u001b[0m\u001b[0mself\u001b[0m\u001b[1;33m.\u001b[0m\u001b[0minteractions\u001b[0m\u001b[1;33m,\u001b[0m \u001b[0mint\u001b[0m\u001b[1;33m)\u001b[0m \u001b[1;32mand\u001b[0m \u001b[0mself\u001b[0m\u001b[1;33m.\u001b[0m\u001b[0minteractions\u001b[0m \u001b[1;33m>\u001b[0m \u001b[1;36m0\u001b[0m\u001b[1;33m:\u001b[0m\u001b[1;33m\u001b[0m\u001b[1;33m\u001b[0m\u001b[0m\n",
      "\u001b[1;32mc:\\users\\alex\\appdata\\local\\programs\\python\\python38-32\\lib\\site-packages\\interpret\\provider\\compute.py\u001b[0m in \u001b[0;36mparallel\u001b[1;34m(self, compute_fn, compute_args_iter)\u001b[0m\n\u001b[0;32m     18\u001b[0m \u001b[1;33m\u001b[0m\u001b[0m\n\u001b[0;32m     19\u001b[0m     \u001b[1;32mdef\u001b[0m \u001b[0mparallel\u001b[0m\u001b[1;33m(\u001b[0m\u001b[0mself\u001b[0m\u001b[1;33m,\u001b[0m \u001b[0mcompute_fn\u001b[0m\u001b[1;33m,\u001b[0m \u001b[0mcompute_args_iter\u001b[0m\u001b[1;33m)\u001b[0m\u001b[1;33m:\u001b[0m\u001b[1;33m\u001b[0m\u001b[1;33m\u001b[0m\u001b[0m\n\u001b[1;32m---> 20\u001b[1;33m         results = Parallel(n_jobs=self.n_jobs)(\n\u001b[0m\u001b[0;32m     21\u001b[0m             \u001b[0mdelayed\u001b[0m\u001b[1;33m(\u001b[0m\u001b[0mcompute_fn\u001b[0m\u001b[1;33m)\u001b[0m\u001b[1;33m(\u001b[0m\u001b[1;33m*\u001b[0m\u001b[0margs\u001b[0m\u001b[1;33m)\u001b[0m \u001b[1;32mfor\u001b[0m \u001b[0margs\u001b[0m \u001b[1;32min\u001b[0m \u001b[0mcompute_args_iter\u001b[0m\u001b[1;33m\u001b[0m\u001b[1;33m\u001b[0m\u001b[0m\n\u001b[0;32m     22\u001b[0m         )\n",
      "\u001b[1;32mc:\\users\\alex\\appdata\\local\\programs\\python\\python38-32\\lib\\site-packages\\joblib\\parallel.py\u001b[0m in \u001b[0;36m__call__\u001b[1;34m(self, iterable)\u001b[0m\n\u001b[0;32m   1040\u001b[0m \u001b[1;33m\u001b[0m\u001b[0m\n\u001b[0;32m   1041\u001b[0m             \u001b[1;32mwith\u001b[0m \u001b[0mself\u001b[0m\u001b[1;33m.\u001b[0m\u001b[0m_backend\u001b[0m\u001b[1;33m.\u001b[0m\u001b[0mretrieval_context\u001b[0m\u001b[1;33m(\u001b[0m\u001b[1;33m)\u001b[0m\u001b[1;33m:\u001b[0m\u001b[1;33m\u001b[0m\u001b[1;33m\u001b[0m\u001b[0m\n\u001b[1;32m-> 1042\u001b[1;33m                 \u001b[0mself\u001b[0m\u001b[1;33m.\u001b[0m\u001b[0mretrieve\u001b[0m\u001b[1;33m(\u001b[0m\u001b[1;33m)\u001b[0m\u001b[1;33m\u001b[0m\u001b[1;33m\u001b[0m\u001b[0m\n\u001b[0m\u001b[0;32m   1043\u001b[0m             \u001b[1;31m# Make sure that we get a last message telling us we are done\u001b[0m\u001b[1;33m\u001b[0m\u001b[1;33m\u001b[0m\u001b[1;33m\u001b[0m\u001b[0m\n\u001b[0;32m   1044\u001b[0m             \u001b[0melapsed_time\u001b[0m \u001b[1;33m=\u001b[0m \u001b[0mtime\u001b[0m\u001b[1;33m.\u001b[0m\u001b[0mtime\u001b[0m\u001b[1;33m(\u001b[0m\u001b[1;33m)\u001b[0m \u001b[1;33m-\u001b[0m \u001b[0mself\u001b[0m\u001b[1;33m.\u001b[0m\u001b[0m_start_time\u001b[0m\u001b[1;33m\u001b[0m\u001b[1;33m\u001b[0m\u001b[0m\n",
      "\u001b[1;32mc:\\users\\alex\\appdata\\local\\programs\\python\\python38-32\\lib\\site-packages\\joblib\\parallel.py\u001b[0m in \u001b[0;36mretrieve\u001b[1;34m(self)\u001b[0m\n\u001b[0;32m    919\u001b[0m             \u001b[1;32mtry\u001b[0m\u001b[1;33m:\u001b[0m\u001b[1;33m\u001b[0m\u001b[1;33m\u001b[0m\u001b[0m\n\u001b[0;32m    920\u001b[0m                 \u001b[1;32mif\u001b[0m \u001b[0mgetattr\u001b[0m\u001b[1;33m(\u001b[0m\u001b[0mself\u001b[0m\u001b[1;33m.\u001b[0m\u001b[0m_backend\u001b[0m\u001b[1;33m,\u001b[0m \u001b[1;34m'supports_timeout'\u001b[0m\u001b[1;33m,\u001b[0m \u001b[1;32mFalse\u001b[0m\u001b[1;33m)\u001b[0m\u001b[1;33m:\u001b[0m\u001b[1;33m\u001b[0m\u001b[1;33m\u001b[0m\u001b[0m\n\u001b[1;32m--> 921\u001b[1;33m                     \u001b[0mself\u001b[0m\u001b[1;33m.\u001b[0m\u001b[0m_output\u001b[0m\u001b[1;33m.\u001b[0m\u001b[0mextend\u001b[0m\u001b[1;33m(\u001b[0m\u001b[0mjob\u001b[0m\u001b[1;33m.\u001b[0m\u001b[0mget\u001b[0m\u001b[1;33m(\u001b[0m\u001b[0mtimeout\u001b[0m\u001b[1;33m=\u001b[0m\u001b[0mself\u001b[0m\u001b[1;33m.\u001b[0m\u001b[0mtimeout\u001b[0m\u001b[1;33m)\u001b[0m\u001b[1;33m)\u001b[0m\u001b[1;33m\u001b[0m\u001b[1;33m\u001b[0m\u001b[0m\n\u001b[0m\u001b[0;32m    922\u001b[0m                 \u001b[1;32melse\u001b[0m\u001b[1;33m:\u001b[0m\u001b[1;33m\u001b[0m\u001b[1;33m\u001b[0m\u001b[0m\n\u001b[0;32m    923\u001b[0m                     \u001b[0mself\u001b[0m\u001b[1;33m.\u001b[0m\u001b[0m_output\u001b[0m\u001b[1;33m.\u001b[0m\u001b[0mextend\u001b[0m\u001b[1;33m(\u001b[0m\u001b[0mjob\u001b[0m\u001b[1;33m.\u001b[0m\u001b[0mget\u001b[0m\u001b[1;33m(\u001b[0m\u001b[1;33m)\u001b[0m\u001b[1;33m)\u001b[0m\u001b[1;33m\u001b[0m\u001b[1;33m\u001b[0m\u001b[0m\n",
      "\u001b[1;32mc:\\users\\alex\\appdata\\local\\programs\\python\\python38-32\\lib\\site-packages\\joblib\\_parallel_backends.py\u001b[0m in \u001b[0;36mwrap_future_result\u001b[1;34m(future, timeout)\u001b[0m\n\u001b[0;32m    540\u001b[0m         AsyncResults.get from multiprocessing.\"\"\"\n\u001b[0;32m    541\u001b[0m         \u001b[1;32mtry\u001b[0m\u001b[1;33m:\u001b[0m\u001b[1;33m\u001b[0m\u001b[1;33m\u001b[0m\u001b[0m\n\u001b[1;32m--> 542\u001b[1;33m             \u001b[1;32mreturn\u001b[0m \u001b[0mfuture\u001b[0m\u001b[1;33m.\u001b[0m\u001b[0mresult\u001b[0m\u001b[1;33m(\u001b[0m\u001b[0mtimeout\u001b[0m\u001b[1;33m=\u001b[0m\u001b[0mtimeout\u001b[0m\u001b[1;33m)\u001b[0m\u001b[1;33m\u001b[0m\u001b[1;33m\u001b[0m\u001b[0m\n\u001b[0m\u001b[0;32m    543\u001b[0m         \u001b[1;32mexcept\u001b[0m \u001b[0mCfTimeoutError\u001b[0m \u001b[1;32mas\u001b[0m \u001b[0me\u001b[0m\u001b[1;33m:\u001b[0m\u001b[1;33m\u001b[0m\u001b[1;33m\u001b[0m\u001b[0m\n\u001b[0;32m    544\u001b[0m             \u001b[1;32mraise\u001b[0m \u001b[0mTimeoutError\u001b[0m \u001b[1;32mfrom\u001b[0m \u001b[0me\u001b[0m\u001b[1;33m\u001b[0m\u001b[1;33m\u001b[0m\u001b[0m\n",
      "\u001b[1;32mc:\\users\\alex\\appdata\\local\\programs\\python\\python38-32\\lib\\concurrent\\futures\\_base.py\u001b[0m in \u001b[0;36mresult\u001b[1;34m(self, timeout)\u001b[0m\n\u001b[0;32m    437\u001b[0m                 \u001b[1;32mraise\u001b[0m \u001b[0mCancelledError\u001b[0m\u001b[1;33m(\u001b[0m\u001b[1;33m)\u001b[0m\u001b[1;33m\u001b[0m\u001b[1;33m\u001b[0m\u001b[0m\n\u001b[0;32m    438\u001b[0m             \u001b[1;32melif\u001b[0m \u001b[0mself\u001b[0m\u001b[1;33m.\u001b[0m\u001b[0m_state\u001b[0m \u001b[1;33m==\u001b[0m \u001b[0mFINISHED\u001b[0m\u001b[1;33m:\u001b[0m\u001b[1;33m\u001b[0m\u001b[1;33m\u001b[0m\u001b[0m\n\u001b[1;32m--> 439\u001b[1;33m                 \u001b[1;32mreturn\u001b[0m \u001b[0mself\u001b[0m\u001b[1;33m.\u001b[0m\u001b[0m__get_result\u001b[0m\u001b[1;33m(\u001b[0m\u001b[1;33m)\u001b[0m\u001b[1;33m\u001b[0m\u001b[1;33m\u001b[0m\u001b[0m\n\u001b[0m\u001b[0;32m    440\u001b[0m             \u001b[1;32melse\u001b[0m\u001b[1;33m:\u001b[0m\u001b[1;33m\u001b[0m\u001b[1;33m\u001b[0m\u001b[0m\n\u001b[0;32m    441\u001b[0m                 \u001b[1;32mraise\u001b[0m \u001b[0mTimeoutError\u001b[0m\u001b[1;33m(\u001b[0m\u001b[1;33m)\u001b[0m\u001b[1;33m\u001b[0m\u001b[1;33m\u001b[0m\u001b[0m\n",
      "\u001b[1;32mc:\\users\\alex\\appdata\\local\\programs\\python\\python38-32\\lib\\concurrent\\futures\\_base.py\u001b[0m in \u001b[0;36m__get_result\u001b[1;34m(self)\u001b[0m\n\u001b[0;32m    386\u001b[0m     \u001b[1;32mdef\u001b[0m \u001b[0m__get_result\u001b[0m\u001b[1;33m(\u001b[0m\u001b[0mself\u001b[0m\u001b[1;33m)\u001b[0m\u001b[1;33m:\u001b[0m\u001b[1;33m\u001b[0m\u001b[1;33m\u001b[0m\u001b[0m\n\u001b[0;32m    387\u001b[0m         \u001b[1;32mif\u001b[0m \u001b[0mself\u001b[0m\u001b[1;33m.\u001b[0m\u001b[0m_exception\u001b[0m\u001b[1;33m:\u001b[0m\u001b[1;33m\u001b[0m\u001b[1;33m\u001b[0m\u001b[0m\n\u001b[1;32m--> 388\u001b[1;33m             \u001b[1;32mraise\u001b[0m \u001b[0mself\u001b[0m\u001b[1;33m.\u001b[0m\u001b[0m_exception\u001b[0m\u001b[1;33m\u001b[0m\u001b[1;33m\u001b[0m\u001b[0m\n\u001b[0m\u001b[0;32m    389\u001b[0m         \u001b[1;32melse\u001b[0m\u001b[1;33m:\u001b[0m\u001b[1;33m\u001b[0m\u001b[1;33m\u001b[0m\u001b[0m\n\u001b[0;32m    390\u001b[0m             \u001b[1;32mreturn\u001b[0m \u001b[0mself\u001b[0m\u001b[1;33m.\u001b[0m\u001b[0m_result\u001b[0m\u001b[1;33m\u001b[0m\u001b[1;33m\u001b[0m\u001b[0m\n",
      "\u001b[1;31mException\u001b[0m: Platform win32 at 32 bit not supported for EBM"
     ]
    }
   ],
   "source": [
    "from interpret.glassbox import ExplainableBoostingRegressor, LinearRegression, RegressionTree\n",
    "\n",
    "ebm = ExplainableBoostingRegressor(random_state=seed)\n",
    "ebm.fit(X_train, y_train)"
   ]
  },
  {
   "cell_type": "code",
   "execution_count": null,
   "metadata": {
    "jupyter": {
     "outputs_hidden": false,
     "source_hidden": false
    },
    "nteract": {
     "transient": {
      "deleting": false
     }
    }
   },
   "outputs": [],
   "source": [
    "from interpret import show\n",
    "from interpret.data import Marginal\n",
    "\n",
    "marginal = Marginal().explain_data(X_train, y_train, name = 'Train Data')\n",
    "show(marginal)"
   ]
  },
  {
   "cell_type": "code",
   "execution_count": null,
   "metadata": {
    "jupyter": {
     "outputs_hidden": false,
     "source_hidden": false
    },
    "nteract": {
     "transient": {
      "deleting": false
     }
    }
   },
   "outputs": [],
   "source": [
    "from interpret import show\n",
    "\n",
    "ebm_global = ebm.explain_global(name='EBM')\n",
    "show(ebm_global)"
   ]
  },
  {
   "cell_type": "code",
   "execution_count": null,
   "metadata": {
    "jupyter": {
     "outputs_hidden": false,
     "source_hidden": false
    },
    "nteract": {
     "transient": {
      "deleting": false
     }
    }
   },
   "outputs": [],
   "source": [
    "from interpret.glassbox import LinearRegression, RegressionTree\n",
    "\n",
    "lr = LinearRegression(random_state=seed)\n",
    "lr.fit(X_train, y_train)\n",
    "\n",
    "rt = RegressionTree(random_state=seed)\n",
    "rt.fit(X_train, y_train)"
   ]
  },
  {
   "cell_type": "code",
   "execution_count": null,
   "metadata": {
    "jupyter": {
     "outputs_hidden": false,
     "source_hidden": false
    },
    "nteract": {
     "transient": {
      "deleting": false
     }
    }
   },
   "outputs": [],
   "source": [
    "from interpret.perf import RegressionPerf\n",
    "\n",
    "ebm_perf = RegressionPerf(ebm.predict).explain_perf(X_test, y_test, name='EBM')\n",
    "show(ebm_perf)"
   ]
  },
  {
   "cell_type": "code",
   "execution_count": null,
   "metadata": {
    "jupyter": {
     "outputs_hidden": false,
     "source_hidden": false
    },
    "nteract": {
     "transient": {
      "deleting": false
     }
    }
   },
   "outputs": [],
   "source": [
    "lr_perf = RegressionPerf(lr.predict).explain_perf(X_test, y_test, name='Linear Regression')\n",
    "rt_perf = RegressionPerf(rt.predict).explain_perf(X_test, y_test, name='Regression Tree')\n",
    "\n",
    "show(lr_perf)\n",
    "show(rt_perf)\n",
    "show(ebm_perf)"
   ]
  },
  {
   "cell_type": "code",
   "execution_count": null,
   "metadata": {
    "jupyter": {
     "outputs_hidden": false,
     "source_hidden": false
    },
    "nteract": {
     "transient": {
      "deleting": false
     }
    }
   },
   "outputs": [],
   "source": [
    "lr_global = lr.explain_global(name='Linear Regression')\n",
    "rt_global = rt.explain_global(name='Regression Tree')\n",
    "\n",
    "show(lr_global)\n",
    "show(rt_global)\n",
    "show(ebm_global)"
   ]
  },
  {
   "cell_type": "code",
   "execution_count": null,
   "metadata": {
    "jupyter": {
     "outputs_hidden": false,
     "source_hidden": false
    },
    "nteract": {
     "transient": {
      "deleting": false
     }
    }
   },
   "outputs": [],
   "source": [
    "show([lr_global, lr_perf, rt_global, rt_perf, ebm_global, ebm_perf])"
   ]
  }
 ],
 "metadata": {
  "kernel_info": {
   "name": "python3-azureml"
  },
  "kernelspec": {
   "display_name": "Python 3",
   "language": "python",
   "name": "python3"
  },
  "language_info": {
   "codemirror_mode": {
    "name": "ipython",
    "version": 3
   },
   "file_extension": ".py",
   "mimetype": "text/x-python",
   "name": "python",
   "nbconvert_exporter": "python",
   "pygments_lexer": "ipython3",
   "version": "3.8.5"
  },
  "nteract": {
   "version": "nteract-front-end@1.0.0"
  }
 },
 "nbformat": 4,
 "nbformat_minor": 2
}
